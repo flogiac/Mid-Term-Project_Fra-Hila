{
 "cells": [
  {
   "cell_type": "code",
   "execution_count": null,
   "id": "313fe4a3-0f5a-4f4a-a64d-f913c616d8d8",
   "metadata": {},
   "outputs": [],
   "source": [
    "\n",
    "sns.boxplot(y=diamonds_replace_cat['total_sales_price'],x=diamonds_replace_cat['shape'], color=\"red\", ax=ax[0,0])\n",
    "sns.boxplot(y=diamonds_replace_cat['total_sales_price'],x=diamonds_replace_cat['clarity'], color=\"salmon\", ax=ax[0,1])\n",
    "sns.boxplot(y=diamonds_replace_cat['total_sales_price'],x=diamonds_replace_cat['cut'], color=\"blue\", ax=ax[1,0])\n",
    "sns.boxplot(y=diamonds_replace_cat['total_sales_price'],x=diamonds_replace_cat['fluor_intensity'], color=\"green\", ax=ax[1,1])\n",
    "sns.boxplot(y=diamonds_replace_cat['total_sales_price'],x=diamonds_replace_cat['symmetry'], color=\"yellow\", ax=ax[2,0])\n",
    "sns.boxplot(y=diamonds_replace_cat['total_sales_price'],x=diamonds_replace_cat['girdle_min'], color=\"darkred\", ax=ax[2,1])\n",
    "sns.boxplot(y=diamonds_replace_cat['total_sales_price'],x=diamonds_replace_cat['girdle_max'], color=\"black\", ax=ax[3,0])\n",
    "sns.boxplot(y=diamonds_replace_cat['total_sales_price'],x=diamonds_replace_cat['culet_size'], color=\"grey\", ax=ax[3,1])\n",
    "sns.boxplot(y=diamonds_replace_cat['total_sales_price'],x=diamonds_replace_cat['polish'], color=\"brown\", ax=ax[4,0])\n",
    "sns.boxplot(y=diamonds_replace_cat['total_sales_price'],x=diamonds_replace_cat['color'], color=\"pink\", ax=ax[4,1])\n"
   ]
  }
 ],
 "metadata": {
  "kernelspec": {
   "display_name": "Python 3 (ipykernel)",
   "language": "python",
   "name": "python3"
  },
  "language_info": {
   "codemirror_mode": {
    "name": "ipython",
    "version": 3
   },
   "file_extension": ".py",
   "mimetype": "text/x-python",
   "name": "python",
   "nbconvert_exporter": "python",
   "pygments_lexer": "ipython3",
   "version": "3.9.7"
  }
 },
 "nbformat": 4,
 "nbformat_minor": 5
}
